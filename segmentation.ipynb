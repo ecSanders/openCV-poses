{
 "cells": [
  {
   "cell_type": "code",
   "execution_count": 7,
   "metadata": {},
   "outputs": [],
   "source": [
    "import numpy as np\n",
    "import open3d as o3d\n",
    "from matplotlib import pyplot as plt"
   ]
  },
  {
   "cell_type": "code",
   "execution_count": 8,
   "metadata": {},
   "outputs": [],
   "source": [
    "cloud = o3d.data.PLYPointCloud()\n",
    "pcd = o3d.io.read_point_cloud(\"data/cloud/exp01.ply\")\n",
    "pcd02 = o3d.io.read_point_cloud(\"data/cloud/exp02.ply\")\n",
    "\n",
    "\n",
    "o3d.visualization.draw_geometries([pcd])"
   ]
  },
  {
   "cell_type": "markdown",
   "metadata": {},
   "source": [
    "### RANSAC"
   ]
  },
  {
   "cell_type": "code",
   "execution_count": 3,
   "metadata": {},
   "outputs": [],
   "source": [
    "plane_model, inliers = pcd.segment_plane(distance_threshold=0.01, ransac_n=3, num_iterations=1000)"
   ]
  },
  {
   "cell_type": "code",
   "execution_count": 6,
   "metadata": {},
   "outputs": [],
   "source": [
    "inlier_cloud = pcd.select_by_index(inliers)\n",
    "outlier_cloud = pcd.select_by_index(inliers, invert=True)\n",
    "\n",
    "inlier_cloud.paint_uniform_color([1, 0, 0])\n",
    "outlier_cloud.paint_uniform_color([0.6, 0.6, 0.6])\n",
    "pcd.estimate_normals(search_param=o3d.geometry.KDTreeSearchParamHybrid(radius=0.1, max_nn=16), fast_normal_computation=True)"
   ]
  },
  {
   "cell_type": "code",
   "execution_count": 8,
   "metadata": {},
   "outputs": [],
   "source": [
    "o3d.visualization.draw_geometries([inlier_cloud])"
   ]
  },
  {
   "cell_type": "markdown",
   "metadata": {},
   "source": [
    "### DBSCAN: NOT WORKING"
   ]
  },
  {
   "cell_type": "code",
   "execution_count": null,
   "metadata": {},
   "outputs": [],
   "source": [
    "labels = np.array(pcd.cluster_dbscan(eps=0.05, min_points=10))"
   ]
  },
  {
   "cell_type": "code",
   "execution_count": null,
   "metadata": {},
   "outputs": [],
   "source": [
    " \n",
    "colors = plt.get_cmap(\"tab20\")(labels / (max_label \n",
    "if max_label > 0 else 1))\n",
    "colors[labels < 0] = 0\n",
    "pcd.colors = o3d.utility.Vector3dVector(colors[:, :3])"
   ]
  },
  {
   "cell_type": "code",
   "execution_count": null,
   "metadata": {},
   "outputs": [],
   "source": [
    "o3d.visualization.draw_geometries([pcd])"
   ]
  },
  {
   "cell_type": "markdown",
   "metadata": {},
   "source": [
    "### RANSAC LOOP"
   ]
  },
  {
   "cell_type": "code",
   "execution_count": 9,
   "metadata": {},
   "outputs": [],
   "source": [
    "segment_models={}\n",
    "segments={}\n",
    "max_plane_idx=20"
   ]
  },
  {
   "cell_type": "code",
   "execution_count": 11,
   "metadata": {},
   "outputs": [
    {
     "name": "stdout",
     "output_type": "stream",
     "text": [
      "pass 1 / 20 done.\n",
      "pass 2 / 20 done.\n",
      "pass 3 / 20 done.\n",
      "pass 4 / 20 done.\n",
      "pass 5 / 20 done.\n",
      "pass 6 / 20 done.\n",
      "pass 7 / 20 done.\n",
      "pass 8 / 20 done.\n",
      "pass 9 / 20 done.\n",
      "pass 10 / 20 done.\n",
      "pass 11 / 20 done.\n",
      "pass 12 / 20 done.\n",
      "pass 13 / 20 done.\n",
      "pass 14 / 20 done.\n",
      "pass 15 / 20 done.\n",
      "pass 16 / 20 done.\n",
      "pass 17 / 20 done.\n",
      "pass 18 / 20 done.\n",
      "pass 19 / 20 done.\n",
      "pass 20 / 20 done.\n"
     ]
    }
   ],
   "source": [
    "rest=pcd\n",
    "for i in range(max_plane_idx):\n",
    "    colors = plt.get_cmap(\"tab20\")(i)\n",
    "    segment_models[i], inliers = rest.segment_plane(\n",
    "    distance_threshold=0.01,ransac_n=3,num_iterations=1000)\n",
    "    segments[i]=rest.select_by_index(inliers)\n",
    "    segments[i].paint_uniform_color(list(colors[:3]))\n",
    "    rest = rest.select_by_index(inliers, invert=True)\n",
    "\n",
    "\n",
    "    print(\"pass\",i+1,\"/\",max_plane_idx,\"done.\")"
   ]
  },
  {
   "cell_type": "code",
   "execution_count": 12,
   "metadata": {},
   "outputs": [],
   "source": [
    "o3d.visualization.draw_geometries([segments[i] for i in range(max_plane_idx)]+[rest])"
   ]
  },
  {
   "cell_type": "code",
   "execution_count": null,
   "metadata": {},
   "outputs": [],
   "source": []
  }
 ],
 "metadata": {
  "interpreter": {
   "hash": "55789a112f4058420c84edcd2a329896b0aadaa8bc20312ead0ce42efcedccfe"
  },
  "kernelspec": {
   "display_name": "Python 3.7.13 ('PC')",
   "language": "python",
   "name": "python3"
  },
  "language_info": {
   "codemirror_mode": {
    "name": "ipython",
    "version": 3
   },
   "file_extension": ".py",
   "mimetype": "text/x-python",
   "name": "python",
   "nbconvert_exporter": "python",
   "pygments_lexer": "ipython3",
   "version": "3.7.13"
  },
  "orig_nbformat": 4
 },
 "nbformat": 4,
 "nbformat_minor": 2
}
